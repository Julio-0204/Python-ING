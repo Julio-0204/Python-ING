{
  "nbformat": 4,
  "nbformat_minor": 0,
  "metadata": {
    "colab": {
      "provenance": [],
      "authorship_tag": "ABX9TyNII+RDZCEmQ3EGiIrLc3Dy",
      "include_colab_link": true
    },
    "kernelspec": {
      "name": "python3",
      "display_name": "Python 3"
    },
    "language_info": {
      "name": "python"
    }
  },
  "cells": [
    {
      "cell_type": "markdown",
      "metadata": {
        "id": "view-in-github",
        "colab_type": "text"
      },
      "source": [
        "<a href=\"https://colab.research.google.com/github/Julio-0204/Python-ING/blob/main/Python_aplicado_a_la_ingenieria.ipynb\" target=\"_parent\"><img src=\"https://colab.research.google.com/assets/colab-badge.svg\" alt=\"Open In Colab\"/></a>"
      ]
    },
    {
      "cell_type": "markdown",
      "source": [
        "# Evaluacion 1\n",
        "## Python aplicado a la ingenieria 2025-02\n",
        "\n",
        "Docente: Miguel Ortiz\n",
        "\n",
        "Estudiante: Julio Burgos\n",
        "\n",
        "Email: julio.burgos@upb.edu.co\n",
        "\n",
        "Fecha: 21/07/2025"
      ],
      "metadata": {
        "id": "B3QoELaKVuek"
      }
    },
    {
      "cell_type": "markdown",
      "source": [
        "# Evaluacion 1\n",
        "30/07/2025\n",
        "\n"
      ],
      "metadata": {
        "id": "VJjiVfSooldj"
      }
    },
    {
      "cell_type": "markdown",
      "source": [
        "## Problema 1\n",
        "Escribe un programa que reciba una oración del usuario y muestre cuántas veces aparece cada letra única. Ignora los espacios y haz que la comparación no distinga entre mayúsculas y minúsculas (es decir, trata 'A' y 'a' como la misma letra). Bono: Muestra los resultados ordenados de la letra más frecuente a la menos frecuente."
      ],
      "metadata": {
        "id": "QtK7fmwaqnmr"
      }
    },
    {
      "cell_type": "code",
      "execution_count": 20,
      "metadata": {
        "id": "rn0NL4tGVnSN",
        "colab": {
          "base_uri": "https://localhost:8080/"
        },
        "outputId": "87c75b1e-80f4-40f4-bd56-59c517396cbe"
      },
      "outputs": [
        {
          "output_type": "stream",
          "name": "stdout",
          "text": [
            "Ingrese una oracion: Hola mundo\n",
            "a : 1\n",
            "d : 1\n",
            "h : 1\n",
            "l : 1\n",
            "m : 1\n",
            "n : 1\n",
            "o : 2\n",
            "u : 1\n"
          ]
        }
      ],
      "source": [
        "oracion = input(\"Ingrese una oracion: \")\n",
        "oracion = oracion.lower() #para que tome las letras mayusculas y  minusculas por igual\n",
        "oracion = oracion.replace(\" \",\"\") #para que elimine los espacios mediante un reemplazo\n",
        "diccionario_vacio = {}\n",
        "for letra in oracion:\n",
        "    if letra in diccionario_vacio:\n",
        "        diccionario_vacio[letra] += 1\n",
        "    else:\n",
        "        diccionario_vacio[letra] = 1\n",
        "\"\"\"\n",
        "en la parte de sorted lo use para  ordenar las letras alfabeticamente\n",
        "\n",
        "\"\"\"\n",
        "orden = sorted(diccionario_vacio.items())\n",
        "for letra, diccionario_vacio in orden:\n",
        "    print(letra, \":\", diccionario_vacio)"
      ]
    },
    {
      "cell_type": "markdown",
      "source": [
        "## Problema 2\n",
        "Escribe un programa que reciba una lista de palabras y cuente cuántas de ellas comienzan con la misma letra inicial. Ignora la sensibilidad a mayúsculas."
      ],
      "metadata": {
        "id": "bTjJsqSqqq33"
      }
    },
    {
      "cell_type": "code",
      "source": [
        "Lista_palabras = [\"Hola\", \"Hoy\", \"Comida\", \"Aseo\", \"Asunto\", \"Sushi\"]\n",
        "diccionario_vacio = {}\n",
        "for palabra in Lista_palabras:\n",
        "    inicial = palabra[0] # para tomar la primera letra\n",
        "    if inicial in diccionario_vacio:\n",
        "        diccionario_vacio[inicial] += 1\n",
        "    else:\n",
        "        diccionario_vacio[inicial] = 1\n",
        "\"\"\"\n",
        "use un for para hacer una serie operaciones usando if y else para\n",
        "que se vaya diciendo cuantas palabras comienzan con la misma letra\n",
        "\"\"\"\n",
        "for grupo in diccionario_vacio:\n",
        "    print(grupo, \":\", diccionario_vacio[grupo])\n",
        "\n"
      ],
      "metadata": {
        "colab": {
          "base_uri": "https://localhost:8080/"
        },
        "id": "8Rdv7dFEqR81",
        "outputId": "7c70df7b-fcde-4c02-8ec9-418ae848ae97"
      },
      "execution_count": 19,
      "outputs": [
        {
          "output_type": "stream",
          "name": "stdout",
          "text": [
            "H : 2\n",
            "C : 1\n",
            "A : 2\n",
            "S : 1\n"
          ]
        }
      ]
    },
    {
      "cell_type": "markdown",
      "source": [
        "## Problema 3\n",
        "Escribe un programa que reciba un diccionario de productos. Cada producto tiene un código único como clave, y su valor es otro diccionario que contiene un `'nombre'` y un `'precio'`. El programa debe mostrar el nombre y el precio del producto más barato y del más caro.\n"
      ],
      "metadata": {
        "id": "CWELwHgAsKWL"
      }
    },
    {
      "cell_type": "code",
      "source": [
        "productos = {\n",
        "    \"A1\": {\"nombre\": \"Manzana\", \"precio\": 1200},\n",
        "    \"B2\": {\"nombre\": \"Banano\", \"precio\": 800},\n",
        "    \"C3\": {\"nombre\": \"Cereal\", \"precio\": 5200},\n",
        "    \"D4\": {\"nombre\": \"Leche\", \"precio\": 3000}\n",
        "}\n",
        "\n",
        "# obtener el producto mas barato y el mas caro\n",
        "def obtener_precio(producto):\n",
        "  return producto[\"precio\"]# retorna los precios para mandarlos a la funcion\n",
        "\n",
        "producto_mas_barato = min(productos.values(), key=obtener_precio)\n",
        "producto_mas_caro = max(productos.values(), key=obtener_precio)\n",
        "\"\"\"\n",
        "use el comando .value para obtener los valores de los precios ya que estos\n",
        "se obtienen despues de signo :\n",
        "entonces use una funcion para comparar los datos de lso precios\n",
        "\"\"\"\n",
        "print(\"el mas barato es \", producto_mas_barato)\n",
        "print(\"el mas caro es \", producto_mas_caro)"
      ],
      "metadata": {
        "colab": {
          "base_uri": "https://localhost:8080/"
        },
        "id": "E-hqMF6dsJoT",
        "outputId": "64115fa9-267d-410e-b719-1deacc466149"
      },
      "execution_count": 17,
      "outputs": [
        {
          "output_type": "stream",
          "name": "stdout",
          "text": [
            "el mas barato es  {'nombre': 'Banano', 'precio': 800}\n",
            "el mas caro es  {'nombre': 'Cereal', 'precio': 5200}\n"
          ]
        }
      ]
    }
  ]
}