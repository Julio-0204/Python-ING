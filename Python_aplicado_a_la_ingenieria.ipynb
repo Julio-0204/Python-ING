{
  "nbformat": 4,
  "nbformat_minor": 0,
  "metadata": {
    "colab": {
      "provenance": [],
      "authorship_tag": "ABX9TyNI3NHV+26fKfs7+z5zrDLR",
      "include_colab_link": true
    },
    "kernelspec": {
      "name": "python3",
      "display_name": "Python 3"
    },
    "language_info": {
      "name": "python"
    }
  },
  "cells": [
    {
      "cell_type": "markdown",
      "metadata": {
        "id": "view-in-github",
        "colab_type": "text"
      },
      "source": [
        "<a href=\"https://colab.research.google.com/github/Julio-0204/Python-ING/blob/main/Python_aplicado_a_la_ingenieria.ipynb\" target=\"_parent\"><img src=\"https://colab.research.google.com/assets/colab-badge.svg\" alt=\"Open In Colab\"/></a>"
      ]
    },
    {
      "cell_type": "markdown",
      "source": [
        "# Evaluacion 1\n",
        "## Python aplicado a la ingenieria 2025-02\n",
        "\n",
        "Docente: Miguel Ortiz\n",
        "\n",
        "Estudiante: Julio Burgos\n",
        "\n",
        "Email: julio.burgos@upb.edu.co\n",
        "\n",
        "Fecha: 21/07/2025"
      ],
      "metadata": {
        "id": "B3QoELaKVuek"
      }
    },
    {
      "cell_type": "markdown",
      "source": [
        "# Evaluacion 1\n",
        "30/07/2025\n",
        "\n"
      ],
      "metadata": {
        "id": "VJjiVfSooldj"
      }
    },
    {
      "cell_type": "markdown",
      "source": [
        "## Problema 1\n",
        "Escribe un programa que reciba una oración del usuario y muestre cuántas veces aparece cada letra única. Ignora los espacios y haz que la comparación no distinga entre mayúsculas y minúsculas (es decir, trata 'A' y 'a' como la misma letra). Bono: Muestra los resultados ordenados de la letra más frecuente a la menos frecuente."
      ],
      "metadata": {
        "id": "QtK7fmwaqnmr"
      }
    },
    {
      "cell_type": "code",
      "execution_count": null,
      "metadata": {
        "id": "rn0NL4tGVnSN"
      },
      "outputs": [],
      "source": [
        "oracion = input(\"Ingrese una oracion: \")\n",
        "oracion = oracion.lower() #para que tome las letras mayusculas y  minusculas por igual\n",
        "oracion = oracion.replace(\" \",\"\") #para que elimine los espacios mediante un reemplazo\n",
        "diccionario_vacio = {}\n",
        "for letra in oracion:\n",
        "    if letra in diccionario_vacio:\n",
        "        diccionario_vacio[letra] += 1\n",
        "    else:\n",
        "        diccionario_vacio[letra] = 1\n",
        "\n",
        "orden = sorted(diccionario_vacio.items())\n",
        "for letra, diccionario_vacio in orden:\n",
        "    print(letra, \":\", diccionario_vacio)"
      ]
    },
    {
      "cell_type": "markdown",
      "source": [
        "## Problema 2\n",
        "Escribe un programa que reciba una lista de palabras y cuente cuántas de ellas comienzan con la misma letra inicial. Ignora la sensibilidad a mayúsculas."
      ],
      "metadata": {
        "id": "bTjJsqSqqq33"
      }
    },
    {
      "cell_type": "code",
      "source": [
        "Lista_palabras = [\"Hola\", \"Hoy\", \"Comida\", \"Aseo\", \"Asunto\", \"Sushi\"]\n",
        "diccionario_vacio = {}\n",
        "for palabra in Lista_palabras:\n",
        "    inicial = palabra[0] # para tomar la primera letra\n",
        "    if inicial in diccionario_vacio:\n",
        "        diccionario_vacio[inicial] += 1\n",
        "    else:\n",
        "        diccionario_vacio[inicial] = 1\n",
        "for grupo in diccionario_vacio:\n",
        "    print(grupo, \":\", diccionario_vacio[grupo])\n",
        "\n"
      ],
      "metadata": {
        "id": "8Rdv7dFEqR81"
      },
      "execution_count": null,
      "outputs": []
    },
    {
      "cell_type": "markdown",
      "source": [
        "## Problema 3\n",
        "Escribe un programa que reciba un diccionario de productos. Cada producto tiene un código único como clave, y su valor es otro diccionario que contiene un `'nombre'` y un `'precio'`. El programa debe mostrar el nombre y el precio del producto más barato y del más caro.\n"
      ],
      "metadata": {
        "id": "CWELwHgAsKWL"
      }
    },
    {
      "cell_type": "code",
      "source": [
        "productos = {\n",
        "    \"A1\": {\"nombre\": \"Manzana\", \"precio\": 1200},\n",
        "    \"B2\": {\"nombre\": \"Banano\", \"precio\": 800},\n",
        "    \"C3\": {\"nombre\": \"Cereal\", \"precio\": 5200},\n",
        "    \"D4\": {\"nombre\": \"Leche\", \"precio\": 3000}\n",
        "}\n",
        "\n",
        "# obtener el producto mas barato y el mas caro\n",
        "def obtener_precio(producto):\n",
        "  return producto[\"precio\"]\n",
        "\n",
        "producto_mas_barato = min(productos.values(), key=obtener_precio)\n",
        "producto_mas_caro = max(productos.values(), key=obtener_precio)\n",
        "\n",
        "print(\"el mas barato es \", producto_mas_barato)\n",
        "print(\"el mas caro es \", producto_mas_caro)"
      ],
      "metadata": {
        "id": "E-hqMF6dsJoT"
      },
      "execution_count": null,
      "outputs": []
    }
  ]
}